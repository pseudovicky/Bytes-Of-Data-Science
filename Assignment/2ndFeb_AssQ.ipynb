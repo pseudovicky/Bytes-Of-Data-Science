{
 "cells": [
  {
   "cell_type": "markdown",
   "metadata": {},
   "source": [
    "# Assignment 2nd Feb\n"
   ]
  },
  {
   "cell_type": "markdown",
   "metadata": {},
   "source": [
    "Q1. Explain with an example each when to use a for loop and a while loop."
   ]
  },
  {
   "cell_type": "markdown",
   "metadata": {},
   "source": [
    "1. Use a for loop when you know the loop should execute n times. Use a while loop for reading a file into a variable. Use a while loop when asking for user input. Use a while loop when the increment value is nonstandard.\n",
    "    "
   ]
  },
  {
   "cell_type": "code",
   "execution_count": 1,
   "metadata": {},
   "outputs": [
    {
     "name": "stdout",
     "output_type": "stream",
     "text": [
      "21  is not a multiple of 5.\n",
      "22  is not a multiple of 5.\n",
      "23  is not a multiple of 5.\n",
      "24  is not a multiple of 5.\n",
      "25  is a multiple of 5.\n"
     ]
    }
   ],
   "source": [
    "# Eg :- while loop \n",
    "number =  int(input('Enter a number range : '))\n",
    "yes = True\n",
    "while yes:\n",
    "    if (number%5 ==0 ):\n",
    "        print(f\"{number}  is a multiple of 5.\")\n",
    "        yes = False\n",
    "    else:\n",
    "        print(f\"{number}  is not a multiple of 5.\")\n",
    "        number += 1\n",
    "\n"
   ]
  },
  {
   "cell_type": "code",
   "execution_count": 3,
   "metadata": {},
   "outputs": [
    {
     "name": "stdout",
     "output_type": "stream",
     "text": [
      "0 is even number\n",
      "1 is odd number\n",
      "2 is even number\n",
      "3 is odd number\n",
      "4 is even number\n",
      "5 is odd number\n",
      "6 is even number\n",
      "7 is odd number\n",
      "8 is even number\n",
      "9 is odd number\n",
      "10 is even number\n",
      "11 is odd number\n",
      "12 is even number\n",
      "13 is odd number\n",
      "14 is even number\n",
      "15 is odd number\n",
      "16 is even number\n",
      "17 is odd number\n",
      "18 is even number\n",
      "19 is odd number\n"
     ]
    }
   ],
   "source": [
    "# Eg : - for loop\n",
    "for i in range(20):\n",
    "    if i%2 == 0:\n",
    "        print(f\"{i} is even number\")\n",
    "    else:\n",
    "        print(f\"{i} is odd number\")"
   ]
  },
  {
   "cell_type": "markdown",
   "metadata": {},
   "source": [
    "Q2. Write a python program to print the sum and product of the first 10 natural numbers using for\n",
    "and while loop."
   ]
  },
  {
   "cell_type": "code",
   "execution_count": 10,
   "metadata": {},
   "outputs": [
    {
     "name": "stdout",
     "output_type": "stream",
     "text": [
      "The sum of first 10 natural number \n",
      "1 2 3 4 5 6 7 8 9 10  = 55\n"
     ]
    }
   ],
   "source": [
    "sum = 0\n",
    "print(f\"The sum of first 10 natural number \")\n",
    "for i in range(1,11):\n",
    "    sum += i\n",
    "    print(i, end=\" \")\n",
    "    \n",
    "print(f\" = {sum}\")"
   ]
  },
  {
   "cell_type": "code",
   "execution_count": 15,
   "metadata": {},
   "outputs": [
    {
     "name": "stdout",
     "output_type": "stream",
     "text": [
      "The product of first 10 natural number \n",
      "1 2 3 4 5 6 7 8 9 10  = 3628800\n"
     ]
    }
   ],
   "source": [
    "product = 1\n",
    "print(f\"The product of first 10 natural number \")\n",
    "for i in range(1,11):\n",
    "    product *= i\n",
    "    print(i, end=\" \")\n",
    "print(f\" = {product}\")"
   ]
  },
  {
   "cell_type": "code",
   "execution_count": 17,
   "metadata": {},
   "outputs": [
    {
     "name": "stdout",
     "output_type": "stream",
     "text": [
      "The sum of first 10 natural number \n",
      "1 2 3 4 5 6 7 8 9 10  = 55\n"
     ]
    }
   ],
   "source": [
    "sum = 0\n",
    "print(f\"The sum of first 10 natural number \")\n",
    "i = 1\n",
    "while i<11:\n",
    "    sum += i\n",
    "    print(i, end=\" \")\n",
    "    i += 1\n",
    "    \n",
    "print(f\" = {sum}\")"
   ]
  },
  {
   "cell_type": "code",
   "execution_count": 18,
   "metadata": {},
   "outputs": [
    {
     "name": "stdout",
     "output_type": "stream",
     "text": [
      "The product of first 10 natural number \n",
      "1 2 3 4 5 6 7 8 9 10  = 3628800\n"
     ]
    }
   ],
   "source": [
    "product = 1\n",
    "print(f\"The product of first 10 natural number \")\n",
    "i = 1\n",
    "while i<11:\n",
    "    product *= i\n",
    "    print(i, end=\" \")\n",
    "    i += 1\n",
    "    \n",
    "print(f\" = {product}\")"
   ]
  },
  {
   "cell_type": "markdown",
   "metadata": {},
   "source": [
    "Q3. Create a python program to compute the electricity bill for a household.\n",
    "The per-unit charges in rupees are as follows: For the first 100 units, the user will be charged Rs. 4.5 per\n",
    "unit, for the next 100 units, the user will be charged Rs. 6 per unit, and for the next 100 units, the user will\n",
    "be charged Rs. 10 per unit, After 300 units and above the user will be charged Rs. 20 per unit.\n",
    "You are required to take the units of electricity consumed in a month from the user as input.\n",
    "Your program must pass this test case: when the unit of electricity consumed by the user in a month is\n",
    "310, the total electricity bill should be 2250."
   ]
  },
  {
   "cell_type": "code",
   "execution_count": 116,
   "metadata": {},
   "outputs": [
    {
     "name": "stdout",
     "output_type": "stream",
     "text": [
      "bill =570.0\n"
     ]
    }
   ],
   "source": [
    "unit = int(input(\"Enter the number of units you have used in a month :  \"))\n",
    "# bill = 0\n",
    "if unit <= 100:\n",
    "    print(f\"bill = {unit*4.5}\")\n",
    "elif unit > 100 and unit <= 200:\n",
    "    if unit == 200:\n",
    "        print(f\"bill = {(100*6)+(100*4.5)}\")\n",
    "    else:\n",
    "        print(f\"bill ={(unit%100)*6 + (100*4.5)}\")\n",
    "elif unit > 200 and unit <= 300:\n",
    "    if unit == 300:\n",
    "        print(f\"bill = {(100*10)+(100*6)+(100*4.5)}\")\n",
    "    else:    \n",
    "        print(f\"bill = {(unit%200*10)+((100*6)+(100*4.5))}\")\n",
    "else:\n",
    "    print(f\"bill = {(unit%300*20)+(100*10)+(100*6)+(100*4.5)}\")"
   ]
  },
  {
   "cell_type": "markdown",
   "metadata": {},
   "source": [
    "Q4. Create a list of numbers from 1 to 100. Use for loop and while loop to calculate the cube of each\n",
    "number and if the cube of that number is divisible by 4 or 5 then append that number in a list and print\n",
    "that list."
   ]
  },
  {
   "cell_type": "code",
   "execution_count": 4,
   "metadata": {},
   "outputs": [
    {
     "name": "stdout",
     "output_type": "stream",
     "text": [
      "[2, 4, 5, 6, 8, 10, 12, 14, 15, 16, 18, 20, 22, 24, 25, 26, 28, 30, 32, 34, 35, 36, 38, 40, 42, 44, 45, 46, 48, 50, 52, 54, 55, 56, 58, 60, 62, 64, 65, 66, 68, 70, 72, 74, 75, 76, 78, 80, 82, 84, 85, 86, 88, 90, 92, 94, 95, 96, 98, 100]\n"
     ]
    }
   ],
   "source": [
    "l = []\n",
    "for i in range(1,101):\n",
    "    cube = i**3\n",
    "    if cube%4==0 or  cube%5==0:\n",
    "        l.append(i)\n",
    "print(l)"
   ]
  },
  {
   "cell_type": "code",
   "execution_count": 6,
   "metadata": {},
   "outputs": [
    {
     "name": "stdout",
     "output_type": "stream",
     "text": [
      "[2, 4, 5, 6, 8, 10, 12, 14, 15, 16, 18, 20, 22, 24, 25, 26, 28, 30, 32, 34, 35, 36, 38, 40, 42, 44, 45, 46, 48, 50, 52, 54, 55, 56, 58, 60, 62, 64, 65, 66, 68, 70, 72, 74, 75, 76, 78, 80, 82, 84, 85, 86, 88, 90, 92, 94, 95, 96, 98, 100]\n"
     ]
    }
   ],
   "source": [
    "l = []\n",
    "i = 1\n",
    "while i<101:\n",
    "    cube = i**3\n",
    "    if cube%4==0 or  cube%5==0:\n",
    "        l.append(i)\n",
    "    i+=1\n",
    "print(l)"
   ]
  },
  {
   "cell_type": "markdown",
   "metadata": {},
   "source": [
    "Q5. Write a program to filter count vowels in the below-given string.\n",
    "string = \"I want to become a data scientist\""
   ]
  },
  {
   "cell_type": "code",
   "execution_count": 12,
   "metadata": {},
   "outputs": [
    {
     "name": "stdout",
     "output_type": "stream",
     "text": [
      "Number of vowels in this string is =  12\n"
     ]
    }
   ],
   "source": [
    "data = \"I want to become a data scientist\".lower()\n",
    "count = 0\n",
    "for char in data:\n",
    "    if char == \"a\" or char == \"e\" or char == \"i\" or char == \"o\" or char == \"u\":\n",
    "        count +=1\n",
    "print(\"Number of vowels in this string is = \", count)"
   ]
  },
  {
   "cell_type": "code",
   "execution_count": null,
   "metadata": {},
   "outputs": [],
   "source": []
  }
 ],
 "metadata": {
  "kernelspec": {
   "display_name": "Python 3",
   "language": "python",
   "name": "python3"
  },
  "language_info": {
   "codemirror_mode": {
    "name": "ipython",
    "version": 3
   },
   "file_extension": ".py",
   "mimetype": "text/x-python",
   "name": "python",
   "nbconvert_exporter": "python",
   "pygments_lexer": "ipython3",
   "version": "3.12.0b3"
  }
 },
 "nbformat": 4,
 "nbformat_minor": 2
}
