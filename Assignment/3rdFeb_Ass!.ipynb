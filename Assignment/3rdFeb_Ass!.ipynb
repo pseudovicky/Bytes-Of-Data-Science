{
 "cells": [
  {
   "cell_type": "markdown",
   "metadata": {},
   "source": [
    "Q1. Which keyword is used to create a function? Create a function to return a list of odd numbers in the\n",
    "range of 1 to 25."
   ]
  },
  {
   "cell_type": "markdown",
   "metadata": {},
   "source": [
    "def keyword is used to create a function."
   ]
  },
  {
   "cell_type": "code",
   "execution_count": 3,
   "metadata": {},
   "outputs": [
    {
     "name": "stdout",
     "output_type": "stream",
     "text": [
      "This function returns a list of all odd number in the range of 1 to 25.\n"
     ]
    },
    {
     "data": {
      "text/plain": [
       "[1, 3, 5, 7, 9, 11, 13, 15, 17, 19, 21, 23]"
      ]
     },
     "execution_count": 3,
     "metadata": {},
     "output_type": "execute_result"
    }
   ],
   "source": [
    "def odd_nums():\n",
    "    \"\"\"This function returns a list of all odd number in the range of 1 to 25.\"\"\"\n",
    "    odd_num_list = []\n",
    "    for i in range(1,25):\n",
    "        if i%2 != 0:\n",
    "            odd_num_list.append(i)\n",
    "    return odd_num_list\n",
    "print(odd_nums.__doc__)\n",
    "odd_nums()\n"
   ]
  },
  {
   "cell_type": "markdown",
   "metadata": {},
   "source": [
    "Q2. Why *args and **kwargs is used in some functions? Create a function each for *args and **kwargs\n",
    "to demonstrate their use."
   ]
  },
  {
   "cell_type": "markdown",
   "metadata": {},
   "source": [
    "*args and **kwargs are used in Python functions to handle variable numbers of arguments and keyword arguments, respectively.\n",
    "\n",
    "*args allows you to pass a variable number of positional arguments to a function, while **kwargs allows you to pass a variable number of keyword arguments."
   ]
  },
  {
   "cell_type": "code",
   "execution_count": 7,
   "metadata": {},
   "outputs": [],
   "source": [
    "# Function using *args\n",
    "def sum_all(*args):\n",
    "    \"\"\"This function return a sum of all number of input list\"\"\"\n",
    "    total = 0\n",
    "    for num in args:\n",
    "        total += num\n",
    "    return total\n",
    "\n",
    "# Function using **kwargs\n",
    "def display_info(**kwargs):\n",
    "    \"\"\"This functions print all of the item of input dictionary\"\"\"\n",
    "    for key, value in kwargs.items():\n",
    "        print(f\"{key}: {value}\")"
   ]
  },
  {
   "cell_type": "code",
   "execution_count": 8,
   "metadata": {},
   "outputs": [
    {
     "name": "stdout",
     "output_type": "stream",
     "text": [
      "This function return a sum of all number of input list\n",
      "15\n"
     ]
    }
   ],
   "source": [
    "print(sum_all.__doc__)\n",
    "print(sum_all(1, 2, 3, 4, 5))"
   ]
  },
  {
   "cell_type": "code",
   "execution_count": 9,
   "metadata": {},
   "outputs": [
    {
     "name": "stdout",
     "output_type": "stream",
     "text": [
      "21\n"
     ]
    }
   ],
   "source": [
    "print(sum_all(1, 2, 3, 4, 5,6))"
   ]
  },
  {
   "cell_type": "code",
   "execution_count": 10,
   "metadata": {},
   "outputs": [
    {
     "name": "stdout",
     "output_type": "stream",
     "text": [
      "This functions print all of the item of input dictionary\n",
      "name: vicky\n",
      "age: 22\n",
      "country: India\n"
     ]
    }
   ],
   "source": [
    "print(display_info.__doc__)\n",
    "display_info(name=\"vicky\", age=22, country=\"India\")"
   ]
  },
  {
   "cell_type": "code",
   "execution_count": 11,
   "metadata": {},
   "outputs": [
    {
     "name": "stdout",
     "output_type": "stream",
     "text": [
      "name: John\n",
      "age: 30\n",
      "country: USA\n",
      "language: python\n"
     ]
    }
   ],
   "source": [
    "display_info(name=\"John\", age=30, country=\"USA\", language=\"python\")"
   ]
  },
  {
   "cell_type": "markdown",
   "metadata": {},
   "source": [
    "Q3. What is an iterator in python? Name the method used to initialise the iterator object and the method\n",
    "used for iteration. Use these methods to print the first five elements of the given list [2, 4, 6, 8, 10, 12, 14,\n",
    "16, 18, 20]."
   ]
  },
  {
   "cell_type": "markdown",
   "metadata": {},
   "source": [
    "- an object that allows you to iterate over collections of data, such as lists, tuples, dictionaries, and sets.\n",
    "- The iter() method is used to initialize the iterator object. Iteration is accomplished through the usage of the next() method."
   ]
  },
  {
   "cell_type": "code",
   "execution_count": 1,
   "metadata": {},
   "outputs": [
    {
     "name": "stdout",
     "output_type": "stream",
     "text": [
      "2\n",
      "4\n",
      "6\n",
      "8\n",
      "10\n"
     ]
    }
   ],
   "source": [
    "numbers = [2, 4, 6, 8, 10, 12, 14, 16, 18, 20]\n",
    "\n",
    "# Initialize the iterator object\n",
    "iterator = iter(numbers)\n",
    "\n",
    "# Use the next() method to get the first five elements\n",
    "print(next(iterator))  # Output: 2\n",
    "print(next(iterator))  # Output: 4\n",
    "print(next(iterator))  # Output: 6\n",
    "print(next(iterator))  # Output: 8\n",
    "print(next(iterator))  # Output: 10\n"
   ]
  },
  {
   "cell_type": "markdown",
   "metadata": {},
   "source": [
    "Q4. What is a generator function in python? Why yield keyword is used? Give an example of a generator\n",
    "function."
   ]
  },
  {
   "cell_type": "markdown",
   "metadata": {},
   "source": [
    "- a generator function is a special type of function that returns an iterator, called a generator, which can be used to iterate over a sequence of values. Instead of using return to return a value and terminate the function, a generator function uses the yield keyword to yield values one at a time, pausing the function’s state between each yield and resuming from where it left off when the next value is requested.\n"
   ]
  },
  {
   "cell_type": "code",
   "execution_count": 3,
   "metadata": {},
   "outputs": [
    {
     "name": "stdout",
     "output_type": "stream",
     "text": [
      "1\n",
      "4\n",
      "9\n",
      "16\n",
      "25\n"
     ]
    }
   ],
   "source": [
    "def generate_squares(n):\n",
    "    for i in range(1, n + 1):\n",
    "        yield i * i\n",
    "\n",
    "# Create a generator\n",
    "squares_generator = generate_squares(5)\n",
    "\n",
    "# Iterate through the generator and print the values\n",
    "for square in squares_generator:\n",
    "    print(square)\n"
   ]
  },
  {
   "cell_type": "markdown",
   "metadata": {},
   "source": [
    "Q5. Create a generator function for prime numbers less than 1000. Use the next() method to print the\n",
    "first 20 prime numbers."
   ]
  },
  {
   "cell_type": "markdown",
   "metadata": {},
   "source": [
    "Q6. Write a python program to print the first 10 Fibonacci numbers using a while loop."
   ]
  },
  {
   "cell_type": "markdown",
   "metadata": {},
   "source": [
    "Q7. Write a List Comprehension to iterate through the given string: ‘pwskills’.\n",
    "Expected output: ['p', 'w', 's', 'k', 'i', 'l', 'l', 's']"
   ]
  },
  {
   "cell_type": "markdown",
   "metadata": {},
   "source": [
    "Q8. Write a python program to check whether a given number is Palindrome or not using a while loop."
   ]
  },
  {
   "cell_type": "markdown",
   "metadata": {},
   "source": [
    "Q8. Write a python program to check whether a given number is Palindrome or not using a while loop."
   ]
  },
  {
   "cell_type": "markdown",
   "metadata": {},
   "source": []
  }
 ],
 "metadata": {
  "kernelspec": {
   "display_name": "Python 3",
   "language": "python",
   "name": "python3"
  },
  "language_info": {
   "codemirror_mode": {
    "name": "ipython",
    "version": 3
   },
   "file_extension": ".py",
   "mimetype": "text/x-python",
   "name": "python",
   "nbconvert_exporter": "python",
   "pygments_lexer": "ipython3",
   "version": "3.12.0b3"
  }
 },
 "nbformat": 4,
 "nbformat_minor": 2
}
