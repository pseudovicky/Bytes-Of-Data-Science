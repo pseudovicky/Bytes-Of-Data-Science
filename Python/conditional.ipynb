{
 "cells": [
  {
   "cell_type": "code",
   "execution_count": 76,
   "metadata": {},
   "outputs": [],
   "source": [
    "from random import random\n",
    "import time"
   ]
  },
  {
   "cell_type": "code",
   "execution_count": 77,
   "metadata": {},
   "outputs": [],
   "source": [
    "def game():\n",
    "    print('Welcome to jumanji number guessing Game : ')\n",
    "    print(f\"I'm thinking of a number between 1 to 100 \")\n",
    "    time.sleep(1)\n",
    "    print('......')\n",
    "    time.sleep(2)\n",
    "    print('...........')\n",
    "    time.sleep(3)\n",
    "    print('.....................')\n",
    "    answer = int(random()*100)+1\n",
    "    print()\n",
    "    answer = int((random() * 100) + 1)\n",
    "    print(f'Yupe, Now ur turn to guess : ')\n",
    "    guess = 0\n",
    "    while guess != answer:\n",
    "        guess = int(input(\"Make a guess: \"))\n",
    "        if guess > answer:\n",
    "            print('Too High')\n",
    "        elif guess < answer:\n",
    "            print('too low')\n",
    "        else:\n",
    "            return f\"You got it ! The answer was {answer}.\""
   ]
  },
  {
   "cell_type": "code",
   "execution_count": 78,
   "metadata": {},
   "outputs": [
    {
     "name": "stdout",
     "output_type": "stream",
     "text": [
      "Welcome to jumanji number guessing Game : \n",
      "I'm thinking of a number between 1 to 100 \n",
      "......\n",
      "...........\n",
      ".....................\n",
      "\n",
      "Yupe, Now ur turn to guess : \n",
      "Too High\n",
      "too low\n",
      "Too High\n",
      "too low\n",
      "too low\n"
     ]
    },
    {
     "data": {
      "text/plain": [
       "'You got it ! The answer was 35.'"
      ]
     },
     "execution_count": 78,
     "metadata": {},
     "output_type": "execute_result"
    }
   ],
   "source": [
    "game()"
   ]
  },
  {
   "cell_type": "code",
   "execution_count": 128,
   "metadata": {},
   "outputs": [
    {
     "name": "stdout",
     "output_type": "stream",
     "text": [
      "[8, 4, 10, 16, 8, 6, 8, 16, 10, 4]\n"
     ]
    }
   ],
   "source": [
    "import random\n",
    "# for i in range(random.randint(10,40)):\n",
    "l = []\n",
    "for i in range(10):\n",
    "    l.append(random.randrange(0,20,2))\n",
    "print(l)"
   ]
  },
  {
   "cell_type": "code",
   "execution_count": 129,
   "metadata": {},
   "outputs": [],
   "source": [
    "# A company decided to give bonus of 5% to employee if his year of service is more than 5 years.\n",
    "# Ask user for their and year of service and print the net net bonus amount.\n"
   ]
  },
  {
   "cell_type": "code",
   "execution_count": 134,
   "metadata": {},
   "outputs": [
    {
     "name": "stdout",
     "output_type": "stream",
     "text": [
      "Your last salary was 100000 and your 5% bonus = 5000. So Your current salary is 105000.\n"
     ]
    }
   ],
   "source": [
    "emp_salary = int(input(f\" Enter your current salary : \"))\n",
    "Year_of_service = input(\"Enter the year of service : \")\n",
    "if float(Year_of_service) > 5:\n",
    "    bonus = (emp_salary/100)*5\n",
    "    new_salary = bonus + emp_salary\n",
    "    print(f'Your last salary was {emp_salary} and your 5% bonus = {int(bonus)}. So Your current salary is {int(new_salary)}.')\n",
    "else:\n",
    "    print(\"you won't get bonus.\")\n",
    "    "
   ]
  },
  {
   "cell_type": "markdown",
   "metadata": {},
   "source": [
    "Take values of length and breath of a rectangle from user and check if it is square or not."
   ]
  },
  {
   "cell_type": "code",
   "execution_count": 138,
   "metadata": {},
   "outputs": [
    {
     "name": "stdout",
     "output_type": "stream",
     "text": [
      "Enter length : \n",
      "Enter breath : \n",
      "It's a Square\n"
     ]
    }
   ],
   "source": [
    "print('Enter length : ')\n",
    "length = int(input('Enter length : '))\n",
    "print('Enter breath : ')\n",
    "breath = int(input(\"Enter breath : \"))\n",
    "if length == breath:\n",
    "    print(\"It's a Square\")\n",
    "else:\n",
    "    print('Its a rectangle')\n"
   ]
  },
  {
   "cell_type": "markdown",
   "metadata": {},
   "source": [
    "Take two int values from user nad print greatest among them."
   ]
  },
  {
   "cell_type": "code",
   "execution_count": null,
   "metadata": {},
   "outputs": [],
   "source": []
  }
 ],
 "metadata": {
  "kernelspec": {
   "display_name": "Python 3",
   "language": "python",
   "name": "python3"
  },
  "language_info": {
   "codemirror_mode": {
    "name": "ipython",
    "version": 3
   },
   "file_extension": ".py",
   "mimetype": "text/x-python",
   "name": "python",
   "nbconvert_exporter": "python",
   "pygments_lexer": "ipython3",
   "version": "3.12.0b3"
  }
 },
 "nbformat": 4,
 "nbformat_minor": 2
}
